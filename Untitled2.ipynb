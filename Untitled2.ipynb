{
  "nbformat": 4,
  "nbformat_minor": 0,
  "metadata": {
    "colab": {
      "name": "Untitled2.ipynb",
      "provenance": []
    },
    "kernelspec": {
      "name": "python3",
      "display_name": "Python 3"
    }
  },
  "cells": [
    {
      "cell_type": "code",
      "metadata": {
        "id": "mAotGcc1jCUx",
        "colab_type": "code",
        "colab": {
          "base_uri": "https://localhost:8080/",
          "height": 153
        },
        "outputId": "4855a642-3af9-4f75-d840-beefb91cd08c"
      },
      "source": [
        "s1='春眠不覺曉，處處聞啼鳥。'\n",
        "print(s1)\n",
        "s2=\"夜來風雨聲，花落知多少。\"\n",
        "print(s2)\n",
        "s3='作者\"孟浩然\"詩名\"春曉\"'\n",
        "print(s3)\n",
        "s4=\"作者'孟浩然'詩名'春曉'\"\n",
        "print(s4)\n",
        "s5='''春眠不覺曉，處處聞啼鳥。\n",
        "夜來風雨聲，花落知多少。\n",
        "作者\"孟浩然\"詩名\"春曉\"\n",
        "'''\n",
        "print(s5)"
      ],
      "execution_count": 4,
      "outputs": [
        {
          "output_type": "stream",
          "text": [
            "春眠不覺曉，處處聞啼鳥。\n",
            "夜來風雨聲，花落知多少。\n",
            "作者\"孟浩然\"詩名\"春曉\"\n",
            "作者'孟浩然'詩名'春曉'\n",
            "春眠不覺曉，處處聞啼鳥。\n",
            "夜來風雨聲，花落知多少。\n",
            "作者\"孟浩然\"詩名\"春曉\"\n",
            "\n"
          ],
          "name": "stdout"
        }
      ]
    },
    {
      "cell_type": "code",
      "metadata": {
        "id": "Ou4LZ3E4q16O",
        "colab_type": "code",
        "colab": {
          "base_uri": "https://localhost:8080/",
          "height": 34
        },
        "outputId": "a4302a29-b96b-405b-e8b0-d2e0f8b740fb"
      },
      "source": [
        "s1=\"123\"\n",
        "s2=\"456\"\n",
        "s3=s1+s2\n",
        "print(s3)\n"
      ],
      "execution_count": 8,
      "outputs": [
        {
          "output_type": "stream",
          "text": [
            "123456\n"
          ],
          "name": "stdout"
        }
      ]
    },
    {
      "cell_type": "code",
      "metadata": {
        "id": "cNKMPfQFuZz4",
        "colab_type": "code",
        "colab": {
          "base_uri": "https://localhost:8080/",
          "height": 34
        },
        "outputId": "d36d965d-4fe4-4734-ee52-ef18d16357c4"
      },
      "source": [
        "s4=s1*2\n",
        "print(s4)"
      ],
      "execution_count": 9,
      "outputs": [
        {
          "output_type": "stream",
          "text": [
            "123123\n"
          ],
          "name": "stdout"
        }
      ]
    },
    {
      "cell_type": "code",
      "metadata": {
        "id": "XxOdQvnPuz4N",
        "colab_type": "code",
        "colab": {
          "base_uri": "https://localhost:8080/",
          "height": 68
        },
        "outputId": "c679a863-b56a-4d66-96df-273f5a0f7fc4"
      },
      "source": [
        "s5='春眠不覺曉，處處聞啼鳥。\\n\\\n",
        "夜來風雨聲，花落知多少。\\n\\\n",
        "\\t作者\"孟浩然\"詩名\"春曉\"'\n",
        "print(s5)\n"
      ],
      "execution_count": 10,
      "outputs": [
        {
          "output_type": "stream",
          "text": [
            "春眠不覺曉，處處聞啼鳥。\n",
            "夜來風雨聲，花落知多少。\n",
            "\t作者\"孟浩然\"詩名\"春曉\"\n"
          ],
          "name": "stdout"
        }
      ]
    },
    {
      "cell_type": "code",
      "metadata": {
        "id": "4ojTESd0vk_Q",
        "colab_type": "code",
        "colab": {
          "base_uri": "https://localhost:8080/",
          "height": 85
        },
        "outputId": "fcdf12f3-f912-4438-cb5d-166ec47d9019"
      },
      "source": [
        "s='0123456789'\n",
        "print(s[0])\n",
        "print('s[1]',s[1])\n",
        "print(s[-1])\n",
        "print('s[-2]',s[-2])"
      ],
      "execution_count": 11,
      "outputs": [
        {
          "output_type": "stream",
          "text": [
            "0\n",
            "s[1] 1\n",
            "9\n",
            "s[-2] 8\n"
          ],
          "name": "stdout"
        }
      ]
    },
    {
      "cell_type": "code",
      "metadata": {
        "id": "jZ0yuQXCvmxA",
        "colab_type": "code",
        "colab": {
          "base_uri": "https://localhost:8080/",
          "height": 204
        },
        "outputId": "974065ff-e28b-4aca-d004-29243b7ccb1e"
      },
      "source": [
        "s='0123456789'\n",
        "print('s=',s,'s[:]=',s[:])\n",
        "print('s=',s,'s[5:]=',s[5:])\n",
        "print('s=',s,'s[-2:]=',s[-2:])\n",
        "print('s=',s,'s[:5]=',s[:5])\n",
        "print('s=',s,'s[:-2]=',s[:-2])\n",
        "\n",
        "print('s=',s,'s[7:9]=',s[7:9])\n",
        "print('s=',s,'s[-4:-1]=',s[-4:-1])\n",
        "print('s=',s,'s[5:-2]=',s[5:-2])\n",
        "print('s=',s,'s[2:10:2]=',s[2:10:2])\n",
        "print('s=',s,'s[::-1]=',s[::-1])\n",
        "print('s=',s,'s[-1::-1]=',s[-1::-1])"
      ],
      "execution_count": 17,
      "outputs": [
        {
          "output_type": "stream",
          "text": [
            "s= 0123456789 s[:]= 0123456789\n",
            "s= 0123456789 s[5:]= 56789\n",
            "s= 0123456789 s[-2:]= 89\n",
            "s= 0123456789 s[:5]= 01234\n",
            "s= 0123456789 s[:-2]= 01234567\n",
            "s= 0123456789 s[7:9]= 78\n",
            "s= 0123456789 s[-4:-1]= 678\n",
            "s= 0123456789 s[5:-2]= 567\n",
            "s= 0123456789 s[2:10:2]= 2468\n",
            "s= 0123456789 s[::-1]= 9876543210\n",
            "s= 0123456789 s[-1::-1]= 9876543210\n"
          ],
          "name": "stdout"
        }
      ]
    },
    {
      "cell_type": "code",
      "metadata": {
        "id": "751wm3lNx1Ip",
        "colab_type": "code",
        "colab": {
          "base_uri": "https://localhost:8080/",
          "height": 34
        },
        "outputId": "2d1975dc-5fe4-4e05-bbee-8083feadbe83"
      },
      "source": [
        "s='春眠不覺曉，處處聞啼鳥,夜來風雨聲，花落知多少。'\n",
        "print(len(s))"
      ],
      "execution_count": 28,
      "outputs": [
        {
          "output_type": "stream",
          "text": [
            "24\n"
          ],
          "name": "stdout"
        }
      ]
    },
    {
      "cell_type": "code",
      "metadata": {
        "id": "Nj90RgAhyotr",
        "colab_type": "code",
        "colab": {
          "base_uri": "https://localhost:8080/",
          "height": 34
        },
        "outputId": "64098404-cef9-4aa3-c9aa-c7c3c06f772d"
      },
      "source": [
        "s='春眠不覺曉，處處聞啼鳥,夜來風雨聲，花落知多少。'\n",
        "list1=s.split(',')\n",
        "print(list1)"
      ],
      "execution_count": 27,
      "outputs": [
        {
          "output_type": "stream",
          "text": [
            "['春眠不覺曉，處處聞啼鳥', '夜來風雨聲，花落知多少。']\n"
          ],
          "name": "stdout"
        }
      ]
    },
    {
      "cell_type": "code",
      "metadata": {
        "id": "NvpSSCg8zMFP",
        "colab_type": "code",
        "colab": {
          "base_uri": "https://localhost:8080/",
          "height": 34
        },
        "outputId": "eba6ef34-c289-4cd2-e37a-5bd5e83d64cf"
      },
      "source": [
        "list1=['春眠不覺曉','處處聞啼鳥','夜來風雨聲','花落知多少。']\n",
        "s2=','.join(list1)\n",
        "print(s2)"
      ],
      "execution_count": 26,
      "outputs": [
        {
          "output_type": "stream",
          "text": [
            "春眠不覺曉,處處聞啼鳥,夜來風雨聲,花落知多少。\n"
          ],
          "name": "stdout"
        }
      ]
    },
    {
      "cell_type": "code",
      "metadata": {
        "id": "KnLUdMp_01Ff",
        "colab_type": "code",
        "colab": {
          "base_uri": "https://localhost:8080/",
          "height": 34
        },
        "outputId": "8cc6812c-3f14-4146-ce2e-60ec6efa5e6e"
      },
      "source": [
        "s1='春眠不覺曉，處處聞啼鳥,夜來風雨聲，花落知多少。'\n",
        "print(s1.find('花落'))"
      ],
      "execution_count": 29,
      "outputs": [
        {
          "output_type": "stream",
          "text": [
            "18\n"
          ],
          "name": "stdout"
        }
      ]
    },
    {
      "cell_type": "code",
      "metadata": {
        "id": "mwVYMgM_1X0r",
        "colab_type": "code",
        "colab": {
          "base_uri": "https://localhost:8080/",
          "height": 34
        },
        "outputId": "cbbf4416-9819-4a06-cfb1-d9e7009466cc"
      },
      "source": [
        "s1='春眠不覺曉，處處聞啼鳥,夜來風雨聲，花落知多少。'\n",
        "print(s1.count('處'))"
      ],
      "execution_count": 30,
      "outputs": [
        {
          "output_type": "stream",
          "text": [
            "2\n"
          ],
          "name": "stdout"
        }
      ]
    },
    {
      "cell_type": "code",
      "metadata": {
        "id": "WWlXcjaX1km7",
        "colab_type": "code",
        "colab": {
          "base_uri": "https://localhost:8080/",
          "height": 34
        },
        "outputId": "817af11c-ad5b-4261-ae9b-8d60fb26cd3a"
      },
      "source": [
        "s1='春眠不覺曉，處處聞啼鳥,夜來風雨聲，花落知多少。'\n",
        "s3=s1.replace('春','東')\n",
        "print(s3)"
      ],
      "execution_count": 34,
      "outputs": [
        {
          "output_type": "stream",
          "text": [
            "東眠不覺曉，處處聞啼鳥,夜來風雨聲，花落知多少。\n"
          ],
          "name": "stdout"
        }
      ]
    },
    {
      "cell_type": "code",
      "metadata": {
        "id": "VShjjeEB2NIo",
        "colab_type": "code",
        "colab": {
          "base_uri": "https://localhost:8080/",
          "height": 85
        },
        "outputId": "c6c1f717-9399-42f2-c112-d0f8e6327e21"
      },
      "source": [
        "t1=()\n",
        "print(t1)\n",
        "t2=('z',)\n",
        "print(t2)\n",
        "t3=(1,2,3)\n",
        "print(t3)\n",
        "t4=(1,2,3,4)\n",
        "t5=(t4,5,6)\n",
        "print(t5)"
      ],
      "execution_count": 35,
      "outputs": [
        {
          "output_type": "stream",
          "text": [
            "()\n",
            "('z',)\n",
            "(1, 2, 3)\n",
            "((1, 2, 3, 4), 5, 6)\n"
          ],
          "name": "stdout"
        }
      ]
    },
    {
      "cell_type": "code",
      "metadata": {
        "id": "pj475Rkx24rZ",
        "colab_type": "code",
        "colab": {
          "base_uri": "https://localhost:8080/",
          "height": 34
        },
        "outputId": "17a991b2-439e-4d5e-9eb4-9dec30a55198"
      },
      "source": [
        "list1=[1,2,3,4]\n",
        "t6=tuple(list1)\n",
        "print(t6)"
      ],
      "execution_count": 39,
      "outputs": [
        {
          "output_type": "stream",
          "text": [
            "(1, 2, 3, 4)\n"
          ],
          "name": "stdout"
        }
      ]
    },
    {
      "cell_type": "code",
      "metadata": {
        "id": "BFpS8OYV3ayv",
        "colab_type": "code",
        "colab": {
          "base_uri": "https://localhost:8080/",
          "height": 68
        },
        "outputId": "7fe2229d-a0ef-4be0-a0ba-21c4de1cb6a0"
      },
      "source": [
        "t1=(1,2,3,4)\n",
        "t2=(5,6,t2)\n",
        "print(len(t2))\n",
        "print(t2[0])\n",
        "print(t2[2][0])"
      ],
      "execution_count": 38,
      "outputs": [
        {
          "output_type": "stream",
          "text": [
            "3\n",
            "5\n",
            "5\n"
          ],
          "name": "stdout"
        }
      ]
    },
    {
      "cell_type": "code",
      "metadata": {
        "id": "HtzSH0jN4ktY",
        "colab_type": "code",
        "colab": {
          "base_uri": "https://localhost:8080/",
          "height": 85
        },
        "outputId": "3cc4aae4-a7b9-4737-88c7-5cca62cf5ea6"
      },
      "source": [
        "shoplist=['牛奶','蛋','咖啡豆','西瓜','鳳梨']\n",
        "print('購物清單shoplist為')\n",
        "print(shoplist)\n",
        "listm=[1,2.0,'python']\n",
        "print(\"串列可以包含各種資料類別的元素\")\n",
        "print(listm)"
      ],
      "execution_count": 42,
      "outputs": [
        {
          "output_type": "stream",
          "text": [
            "購物清單shoplist為\n",
            "['牛奶', '蛋', '咖啡豆', '西瓜', '鳳梨']\n",
            "串列可以包含各種資料類別的元素\n",
            "[1, 2.0, 'python']\n"
          ],
          "name": "stdout"
        }
      ]
    },
    {
      "cell_type": "code",
      "metadata": {
        "id": "tI9fPDcE6ctS",
        "colab_type": "code",
        "colab": {
          "base_uri": "https://localhost:8080/",
          "height": 199
        },
        "outputId": "6e7e5a20-6834-4d15-87cf-184369638989"
      },
      "source": [
        "tuple2=('a','b',1,2)\n",
        "list2=list(tuple2)\n",
        "print(list2)"
      ],
      "execution_count": 50,
      "outputs": [
        {
          "output_type": "error",
          "ename": "TypeError",
          "evalue": "ignored",
          "traceback": [
            "\u001b[0;31m---------------------------------------------------------------------------\u001b[0m",
            "\u001b[0;31mTypeError\u001b[0m                                 Traceback (most recent call last)",
            "\u001b[0;32m<ipython-input-50-bb01d301c15f>\u001b[0m in \u001b[0;36m<module>\u001b[0;34m()\u001b[0m\n\u001b[1;32m      1\u001b[0m \u001b[0mtuple2\u001b[0m\u001b[0;34m=\u001b[0m\u001b[0;34m(\u001b[0m\u001b[0;34m'a'\u001b[0m\u001b[0;34m,\u001b[0m\u001b[0;34m'b'\u001b[0m\u001b[0;34m,\u001b[0m\u001b[0;36m1\u001b[0m\u001b[0;34m,\u001b[0m\u001b[0;36m2\u001b[0m\u001b[0;34m)\u001b[0m\u001b[0;34m\u001b[0m\u001b[0;34m\u001b[0m\u001b[0m\n\u001b[0;32m----> 2\u001b[0;31m \u001b[0mlist2\u001b[0m\u001b[0;34m=\u001b[0m\u001b[0mlist\u001b[0m\u001b[0;34m(\u001b[0m\u001b[0mtuple2\u001b[0m\u001b[0;34m)\u001b[0m\u001b[0;34m\u001b[0m\u001b[0;34m\u001b[0m\u001b[0m\n\u001b[0m\u001b[1;32m      3\u001b[0m \u001b[0mprint\u001b[0m\u001b[0;34m(\u001b[0m\u001b[0mlist2\u001b[0m\u001b[0;34m)\u001b[0m\u001b[0;34m\u001b[0m\u001b[0;34m\u001b[0m\u001b[0m\n",
            "\u001b[0;31mTypeError\u001b[0m: 'list' object is not callable"
          ]
        }
      ]
    }
  ]
}